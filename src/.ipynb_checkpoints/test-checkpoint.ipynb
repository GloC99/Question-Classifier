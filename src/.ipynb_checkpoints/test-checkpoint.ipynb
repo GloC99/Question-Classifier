{
 "cells": [
  {
   "cell_type": "code",
   "execution_count": null,
   "metadata": {},
   "outputs": [],
   "source": [
    "import math\n",
    "import numpy as np\n",
    "import string\n",
    "import torch\n",
    "import torch.nn as nn\n",
    "import torch.nn.functional as F\n",
    "import torch.optim as optim\n",
    "import configparser\n",
    "import bilstm\n",
    "import question_classifier\n",
    "from torch.autograd import Variable\n",
    "from split_label import SplitLabel\n",
    "from glove import read_glove\n",
    "from bilstm import BiLSTMTagger\n",
    "torch.manual_seed(1)"
   ]
  },
  {
   "cell_type": "code",
   "execution_count": null,
   "metadata": {},
   "outputs": [],
   "source": [
    "bilstm.train()\n",
    "# model, tag_to_ix = bilstm.train()"
   ]
  },
  {
   "cell_type": "code",
   "execution_count": null,
   "metadata": {},
   "outputs": [],
   "source": [
    "# #both accuracy and F1 scores.\n",
    "# RC = SplitLabel(\"../data/test.txt\")\n",
    "# features,labels = RC.generate_sentences()\n",
    "\n",
    "# with torch.no_grad():\n",
    "#     acc = 0\n",
    "#     for sentence, tags in zip(features,labels):\n",
    "                \n",
    "#         tag_scores = model.forward(sentence)\n",
    "\n",
    "#         ind = torch.argmax(tag_scores)\n",
    "\n",
    "#         k = [k for k, v in tag_to_ix.items() if v == ind]\n",
    "\n",
    "#         if k[0] == tags:\n",
    "#             acc += 1\n",
    "#     print(acc / len(features))\n",
    "\n",
    "bilstm.test()"
   ]
  },
  {
   "cell_type": "code",
   "execution_count": null,
   "metadata": {},
   "outputs": [],
   "source": [
    "#     with torch.no_grad():\n",
    "#         sentence = \"Who replies `` I know '' to Princess Leia 's confession `` I love you '' in The Empire Strikes Back ?\"\n",
    "#         inputs = get_embvec(sentence, glove_vec)\n",
    "#         print(inputs)\n",
    "#         tag_scores = model.forward(sentence)\n",
    "#         print(tag_scores)\n",
    "\n",
    "#         ind = torch.argmax(tag_scores)\n",
    "\n",
    "#         k = [k for k, v in tag_to_ix.items() if v == ind]\n",
    "        \n",
    "#         print(k)\n",
    "\n",
    "bilstm.test_one(test_sentence=\"Who replies `` I know '' to Princess Leia 's confession `` I love you '' in The Empire Strikes Back ?\")"
   ]
  },
  {
   "cell_type": "code",
   "execution_count": null,
   "metadata": {},
   "outputs": [],
   "source": [
    "question_classifier.train()"
   ]
  }
 ],
 "metadata": {
  "kernelspec": {
   "display_name": "Python 3 (ipykernel)",
   "language": "python",
   "name": "python3"
  },
  "language_info": {
   "codemirror_mode": {
    "name": "ipython",
    "version": 3
   },
   "file_extension": ".py",
   "mimetype": "text/x-python",
   "name": "python",
   "nbconvert_exporter": "python",
   "pygments_lexer": "ipython3",
   "version": "3.8.10"
  }
 },
 "nbformat": 4,
 "nbformat_minor": 4
}
