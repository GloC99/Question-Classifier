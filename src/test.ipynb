{
 "cells": [
  {
   "cell_type": "code",
   "execution_count": 9,
   "metadata": {},
   "outputs": [
    {
     "data": {
      "text/plain": [
       "<torch._C.Generator at 0x7fed2fb99b90>"
      ]
     },
     "execution_count": 9,
     "metadata": {},
     "output_type": "execute_result"
    }
   ],
   "source": [
    "import math\n",
    "import numpy as np\n",
    "import string\n",
    "import torch\n",
    "import torch.nn as nn\n",
    "import torch.nn.functional as F\n",
    "import torch.optim as optim\n",
    "from torch.autograd import Variable\n",
    "\n",
    "torch.manual_seed(1)"
   ]
  },
  {
   "cell_type": "code",
   "execution_count": 10,
   "metadata": {},
   "outputs": [],
   "source": [
    "EMBEDDING_DIM = 300\n",
    "HIDDEN_DIM = 4"
   ]
  },
  {
   "cell_type": "code",
   "execution_count": 11,
   "metadata": {},
   "outputs": [],
   "source": [
    "def get_embvec(sentence, vol):\n",
    "    words = sentence.split()\n",
    "    words = list(filter(lambda token: token not in string.punctuation, words))\n",
    "    vec = torch.FloatTensor(len(words), EMBEDDING_DIM)\n",
    "    for i in range(0,len(words)):\n",
    "        if words[i] in vol.keys():\n",
    "            vec[i] = (vol.get(words[i]))\n",
    "        else:\n",
    "            vec[i] = (vol.get(\"#UNK#\"))\n",
    "\n",
    "    return vec"
   ]
  },
  {
   "cell_type": "code",
   "execution_count": 12,
   "metadata": {},
   "outputs": [],
   "source": [
    "class BiLSTMTagger(nn.Module):\n",
    "\n",
    "   def __init__(self, embedding_dim, hidden_dim, tagset_size, vol):\n",
    "       super(BiLSTMTagger, self).__init__()\n",
    "       self.hidden_dim = hidden_dim\n",
    "\n",
    "       self.vol = vol\n",
    "\n",
    "       self.bilstm = nn.LSTM(embedding_dim, hidden_dim, bidirectional=True)\n",
    "\n",
    "       self.hidden2tag = nn.Linear(hidden_dim * 2, tagset_size)\n",
    "\n",
    "\n",
    "   def bilstm_vec(self, sentence):\n",
    "       embeds = get_embvec(sentence, self.vol)\n",
    "\n",
    "       bilstm_out, (h_n, c_n) = self.bilstm(embeds.view(len(embeds), 1, -1))\n",
    "\n",
    "       out = torch.hstack((h_n[-2, :, :], h_n[-1, :, :]))\n",
    "\n",
    "       return out\n",
    "\n",
    "\n",
    "   def forward(self, sentence):\n",
    "        bilstm_out = self.bilstm_vec(sentence)\n",
    "\n",
    "        tag_space = self.hidden2tag(bilstm_out)\n",
    "\n",
    "        tag_scores = F.log_softmax(tag_space, dim=1)\n",
    "\n",
    "        return tag_scores\n"
   ]
  },
  {
   "cell_type": "code",
   "execution_count": 13,
   "metadata": {},
   "outputs": [],
   "source": [
    "def read_by_tokens(fileobj):\n",
    "\n",
    "    for line in fileobj:\n",
    "\n",
    "        for token in line.split():\n",
    "\n",
    "            yield token"
   ]
  },
  {
   "cell_type": "code",
   "execution_count": 14,
   "metadata": {},
   "outputs": [],
   "source": [
    "class ReadCorpus:\n",
    "    def __init__(self,corpus_name):\n",
    "        self.corpus_name = corpus_name\n",
    "\n",
    "    def generate_sentences(self):\n",
    "        count = 0\n",
    "        features = []\n",
    "        labels = []\n",
    "        with open(self.corpus_name,'r') as file:\n",
    "            for line in file:\n",
    "                sentence = line.replace('\\n','')\n",
    "                [label, feature]= sentence.split(sep=' ', maxsplit=1)\n",
    "                for sent in sentence:\n",
    "                    count += 1\n",
    "                labels.append(label)\n",
    "                features.append(feature)\n",
    "        file.close()\n",
    "\n",
    "        return features, labels\n"
   ]
  },
  {
   "cell_type": "code",
   "execution_count": 15,
   "metadata": {},
   "outputs": [
    {
     "name": "stdout",
     "output_type": "stream",
     "text": [
      "Epoch 0\n",
      "0.4739094985731757\n",
      "Epoch 1\n",
      "0.5538116591928252\n",
      "Epoch 2\n",
      "0.5917244190786791\n",
      "Epoch 3\n",
      "0.6434977578475336\n",
      "Epoch 4\n",
      "0.6390134529147982\n",
      "Epoch 5\n",
      "0.6785568691398288\n",
      "Epoch 6\n",
      "0.6877293110476967\n",
      "Epoch 7\n",
      "0.7024052181002853\n",
      "Epoch 8\n",
      "0.713819812474521\n",
      "Epoch 9\n",
      "0.7258459029759479\n"
     ]
    }
   ],
   "source": [
    "\n",
    "    vols = []\n",
    "    vecs = []\n",
    "    vec = []\n",
    "    with open(\"../data/glove.small.txt\") as f:\n",
    "\n",
    "        tokenized = read_by_tokens(f)\n",
    "        count = 0\n",
    "        for token in tokenized:\n",
    "            if count % 301 == 0:\n",
    "                vols.append(token)\n",
    "                if count != 0:\n",
    "                    vecs.append(torch.Tensor(vec))\n",
    "                    vec = []\n",
    "            else:\n",
    "                v = torch.tensor(float(token), dtype=torch.float64)\n",
    "                vec.append(v)\n",
    "            count += 1\n",
    "        vecs.append(torch.Tensor(vec))\n",
    "    f.close()\n",
    "\n",
    "    glove_vec = {}\n",
    "    for i in range(0, len(vols)):\n",
    "        v = vols[i]\n",
    "        glove_vec[v] = vecs[i]\n",
    "\n",
    "    RC = ReadCorpus(\"../data/train.txt\")\n",
    "    features,labels = RC.generate_sentences()\n",
    "\n",
    "    tag_to_ix = {}\n",
    "    id = 0\n",
    "    for l in labels:\n",
    "        if l not in tag_to_ix.keys():\n",
    "            tag_to_ix[l] = id\n",
    "            id += 1\n",
    "\n",
    "    EMBEDDING_DIM = 300\n",
    "    HIDDEN_DIM = 4\n",
    "\n",
    "    model = BiLSTMTagger(EMBEDDING_DIM, HIDDEN_DIM, len(tag_to_ix), glove_vec)\n",
    "    \n",
    "    loss_function = nn.NLLLoss()\n",
    "    optimizer = optim.SGD(model.parameters(), lr=0.1)\n",
    "    \n",
    "\n",
    "    for epoch in range(10):  # again, normally you would NOT do 300 epochs, it is toy data\n",
    "        for sentence, tags in zip(features, labels):\n",
    "            # Step 1. Remember that Pytorch accumulates gradients.\n",
    "            # We need to clear them out before each instance\n",
    "            model.zero_grad()\n",
    "    \n",
    "            # Step 2. Get our inputs ready for the network, that is, turn them into\n",
    "            # Tensors of word indices.\n",
    "            targets = torch.tensor([tag_to_ix[tags]],dtype=torch.long)\n",
    "    \n",
    "            # Step 3. Run our forward pass.\n",
    "            tag_scores = model.forward(sentence)\n",
    "            #\n",
    "            # Step 4. Compute the loss, gradients, and update the parameters by\n",
    "            #  calling optimizer.step()\n",
    "            loss = loss_function(tag_scores, targets)\n",
    "            \n",
    "            loss.backward()\n",
    "            optimizer.step()\n",
    "        \n",
    "        print(\"Epoch\", epoch)\n",
    "        with torch.no_grad():\n",
    "            acc = 0\n",
    "            for sentence, tags in zip(features,labels):\n",
    "                \n",
    "                tag_scores = model.forward(sentence)\n",
    "\n",
    "                ind = torch.argmax(tag_scores)\n",
    "\n",
    "                k = [k for k, v in tag_to_ix.items() if v == ind]\n",
    "\n",
    "                if k[0] == tags:\n",
    "                    acc += 1\n",
    "            print(acc / len(features))\n",
    "        \n",
    "#     with torch.no_grad():\n",
    "#         inputs = get_embvec(\"What are liver enzymes ?\", glove_vec)\n",
    "#         print(inputs)\n",
    "#         tag_scores = model.forward(\"What are liver enzymes ?\")\n",
    "#         print(tag_scores)\n"
   ]
  },
  {
   "cell_type": "code",
   "execution_count": 16,
   "metadata": {},
   "outputs": [
    {
     "name": "stdout",
     "output_type": "stream",
     "text": [
      "0.606\n"
     ]
    }
   ],
   "source": [
    "#both accuracy and F1 scores.\n",
    "RC = ReadCorpus(\"../data/test.txt\")\n",
    "features,labels = RC.generate_sentences()\n",
    "\n",
    "with torch.no_grad():\n",
    "    acc = 0\n",
    "    for sentence, tags in zip(features,labels):\n",
    "                \n",
    "        tag_scores = model.forward(sentence)\n",
    "\n",
    "        ind = torch.argmax(tag_scores)\n",
    "\n",
    "        k = [k for k, v in tag_to_ix.items() if v == ind]\n",
    "\n",
    "        if k[0] == tags:\n",
    "            acc += 1\n",
    "    print(acc / len(features))"
   ]
  },
  {
   "cell_type": "code",
   "execution_count": 17,
   "metadata": {},
   "outputs": [
    {
     "data": {
      "text/plain": [
       "{'ENTY:cremat': 0,\n",
       " 'NUM:count': 1,\n",
       " 'HUM:ind': 2,\n",
       " 'LOC:country': 3,\n",
       " 'DESC:manner': 4,\n",
       " 'NUM:money': 5,\n",
       " 'ENTY:body': 6,\n",
       " 'NUM:perc': 7,\n",
       " 'ABBR:exp': 8,\n",
       " 'DESC:def': 9,\n",
       " 'LOC:city': 10,\n",
       " 'HUM:desc': 11,\n",
       " 'ENTY:veh': 12,\n",
       " 'LOC:other': 13,\n",
       " 'DESC:desc': 14,\n",
       " 'LOC:mount': 15,\n",
       " 'ENTY:other': 16,\n",
       " 'ENTY:event': 17,\n",
       " 'ENTY:food': 18,\n",
       " 'DESC:reason': 19,\n",
       " 'ENTY:termeq': 20,\n",
       " 'ENTY:lang': 21,\n",
       " 'HUM:gr': 22,\n",
       " 'NUM:date': 23,\n",
       " 'ENTY:techmeth': 24,\n",
       " 'ENTY:animal': 25,\n",
       " 'NUM:period': 26,\n",
       " 'NUM:other': 27,\n",
       " 'ENTY:dismed': 28,\n",
       " 'HUM:title': 29,\n",
       " 'ENTY:sport': 30,\n",
       " 'ENTY:product': 31,\n",
       " 'NUM:temp': 32,\n",
       " 'ENTY:color': 33,\n",
       " 'LOC:state': 34,\n",
       " 'ENTY:word': 35,\n",
       " 'NUM:dist': 36,\n",
       " 'ENTY:letter': 37,\n",
       " 'ABBR:abb': 38,\n",
       " 'ENTY:substance': 39,\n",
       " 'ENTY:religion': 40,\n",
       " 'ENTY:symbol': 41,\n",
       " 'ENTY:currency': 42,\n",
       " 'NUM:code': 43,\n",
       " 'ENTY:instru': 44,\n",
       " 'NUM:weight': 45,\n",
       " 'NUM:speed': 46,\n",
       " 'ENTY:plant': 47,\n",
       " 'NUM:volsize': 48,\n",
       " 'NUM:ord': 49}"
      ]
     },
     "execution_count": 17,
     "metadata": {},
     "output_type": "execute_result"
    }
   ],
   "source": [
    "tag_to_ix"
   ]
  },
  {
   "cell_type": "code",
   "execution_count": 15,
   "metadata": {},
   "outputs": [
    {
     "data": {
      "text/plain": [
       "['ENTY:cremat']"
      ]
     },
     "execution_count": 15,
     "metadata": {},
     "output_type": "execute_result"
    }
   ],
   "source": [
    "[k for k, v in tag_to_ix.items() if v == 1]"
   ]
  },
  {
   "cell_type": "code",
   "execution_count": 32,
   "metadata": {},
   "outputs": [
    {
     "name": "stdout",
     "output_type": "stream",
     "text": [
      "tensor([[-0.0474,  0.0093,  0.3878,  ..., -0.0024,  0.5159,  0.0343],\n",
      "        [-0.3816,  0.2921, -0.2116,  ...,  0.3511,  0.3492,  0.5205],\n",
      "        [ 0.0837,  0.1675, -0.5997,  ...,  0.0799, -0.0178, -0.1576],\n",
      "        ...,\n",
      "        [-0.1770, -0.3460, -0.1370,  ..., -0.0861,  0.2466,  0.2335],\n",
      "        [-0.4350, -0.2168,  0.1815,  ..., -0.5749, -0.0223,  0.2256],\n",
      "        [-0.2397,  0.0764,  0.0171,  ...,  0.4198,  0.0359, -0.0668]])\n",
      "tensor([[ -3.3651, -22.4164,  -0.0391, -20.5387, -20.9542, -16.1962, -13.2518,\n",
      "         -17.1531, -18.3534, -18.4736, -22.3520,  -7.4908,  -8.8826,  -7.9462,\n",
      "          -6.5135, -21.3394,  -8.0555,  -8.3200, -11.0501, -11.9784, -10.8983,\n",
      "         -12.9006,  -8.0495, -10.3201, -11.8362, -10.5255, -13.4433, -17.7182,\n",
      "         -20.3574,  -9.0610, -15.6763,  -9.3264, -16.5689, -10.8354, -19.2723,\n",
      "         -13.3709, -19.4676, -12.3230, -15.5846, -13.4462, -10.5748, -14.2968,\n",
      "         -15.0885, -15.8220, -10.1026, -16.5966, -16.6027, -12.8928, -15.1876,\n",
      "         -13.6546]])\n",
      "['HUM:ind']\n"
     ]
    }
   ],
   "source": [
    "    with torch.no_grad():\n",
    "        sentence = \"Who replies `` I know '' to Princess Leia 's confession `` I love you '' in The Empire Strikes Back ?\"\n",
    "        inputs = get_embvec(sentence, glove_vec)\n",
    "        print(inputs)\n",
    "        tag_scores = model.forward(sentence)\n",
    "        print(tag_scores)\n",
    "\n",
    "        ind = torch.argmax(tag_scores)\n",
    "\n",
    "        k = [k for k, v in tag_to_ix.items() if v == ind]\n",
    "        \n",
    "        print(k)"
   ]
  },
  {
   "cell_type": "code",
   "execution_count": null,
   "metadata": {},
   "outputs": [],
   "source": []
  }
 ],
 "metadata": {
  "kernelspec": {
   "display_name": "Python 3",
   "language": "python",
   "name": "python3"
  },
  "language_info": {
   "codemirror_mode": {
    "name": "ipython",
    "version": 3
   },
   "file_extension": ".py",
   "mimetype": "text/x-python",
   "name": "python",
   "nbconvert_exporter": "python",
   "pygments_lexer": "ipython3",
   "version": "3.8.5"
  }
 },
 "nbformat": 4,
 "nbformat_minor": 4
}
